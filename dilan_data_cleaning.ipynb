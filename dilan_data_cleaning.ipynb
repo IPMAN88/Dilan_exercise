{
 "cells": [
  {
   "cell_type": "markdown",
   "metadata": {},
   "source": [
    "# Data cleaning"
   ]
  },
  {
   "cell_type": "code",
   "execution_count": 1,
   "metadata": {},
   "outputs": [],
   "source": [
    "import csv\n"
   ]
  },
  {
   "cell_type": "code",
   "execution_count": 2,
   "metadata": {},
   "outputs": [],
   "source": [
    "raw = csv.reader(open('dilans_data_copy.csv'), delimiter=';')"
   ]
  },
  {
   "cell_type": "code",
   "execution_count": 3,
   "metadata": {},
   "outputs": [],
   "source": [
    "data = list(raw)"
   ]
  },
  {
   "cell_type": "code",
   "execution_count": 4,
   "metadata": {},
   "outputs": [
    {
     "data": {
      "text/plain": [
       "['2018-01-01 00:01:01',\n",
       " 'read',\n",
       " 'country_7',\n",
       " '2458151261',\n",
       " 'SEO',\n",
       " 'North America']"
      ]
     },
     "execution_count": 4,
     "metadata": {},
     "output_type": "execute_result"
    }
   ],
   "source": [
    "data[0]"
   ]
  },
  {
   "cell_type": "code",
   "execution_count": 5,
   "metadata": {},
   "outputs": [],
   "source": [
    "first_reader = []\n",
    "returning_reader = []\n",
    "subscriber = []\n",
    "purchase = []"
   ]
  },
  {
   "cell_type": "code",
   "execution_count": 6,
   "metadata": {},
   "outputs": [],
   "source": [
    "for element in data:\n",
    "    if len(element) == 6:\n",
    "        first_reader.append(element)\n",
    "    \n",
    "    elif len(element) == 5:\n",
    "        returning_reader.append(element)\n",
    "        \n",
    "    elif len(element) == 3:\n",
    "        subscriber.append(element)\n",
    "        \n",
    "    elif len(element) == 4:\n",
    "        purchase.append(element)\n",
    "        \n",
    "    else:\n",
    "        print('error')\n",
    "    "
   ]
  },
  {
   "cell_type": "code",
   "execution_count": 7,
   "metadata": {},
   "outputs": [
    {
     "data": {
      "text/plain": [
       "['2018-01-01 02:20:18', 'read', 'country_5', '2458151287', 'North America']"
      ]
     },
     "execution_count": 7,
     "metadata": {},
     "output_type": "execute_result"
    }
   ],
   "source": [
    "returning_reader[0]"
   ]
  },
  {
   "cell_type": "code",
   "execution_count": 8,
   "metadata": {},
   "outputs": [],
   "source": [
    "for item in first_reader:\n",
    "    item.insert(6, 0)"
   ]
  },
  {
   "cell_type": "code",
   "execution_count": 9,
   "metadata": {},
   "outputs": [],
   "source": [
    "for item in returning_reader:\n",
    "    item.insert(4, 'return')\n",
    "    item.insert(6, 0)"
   ]
  },
  {
   "cell_type": "code",
   "execution_count": 13,
   "metadata": {},
   "outputs": [],
   "source": [
    "for item in subscriber:\n",
    "    item.insert(2, 'NA')\n",
    "    item.insert(4, 'NA')\n",
    "    item.insert(5, 'NA')\n",
    "    item.insert(6, 0)"
   ]
  },
  {
   "cell_type": "code",
   "execution_count": 15,
   "metadata": {},
   "outputs": [],
   "source": [
    "for item in purchase:\n",
    "    item.insert(2, 'NA')\n",
    "    item.insert(4, 'NA')\n",
    "    item.insert(5, 'NA')\n",
    "    "
   ]
  },
  {
   "cell_type": "code",
   "execution_count": 24,
   "metadata": {},
   "outputs": [],
   "source": [
    "total = first_reader + returning_reader + subscriber + purchase"
   ]
  },
  {
   "cell_type": "code",
   "execution_count": 26,
   "metadata": {},
   "outputs": [],
   "source": [
    "writer = csv.writer(open('total.csv', 'w'))\n",
    "writer.writerows(total)"
   ]
  }
 ],
 "metadata": {
  "kernelspec": {
   "display_name": "Python 3",
   "language": "python",
   "name": "python3"
  },
  "language_info": {
   "codemirror_mode": {
    "name": "ipython",
    "version": 3
   },
   "file_extension": ".py",
   "mimetype": "text/x-python",
   "name": "python",
   "nbconvert_exporter": "python",
   "pygments_lexer": "ipython3",
   "version": "3.7.4"
  }
 },
 "nbformat": 4,
 "nbformat_minor": 2
}
